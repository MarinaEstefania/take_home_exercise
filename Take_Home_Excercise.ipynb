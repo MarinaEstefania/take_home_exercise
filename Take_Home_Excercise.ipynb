{
  "nbformat": 4,
  "nbformat_minor": 0,
  "metadata": {
    "colab": {
      "provenance": [],
      "collapsed_sections": [],
      "authorship_tag": "ABX9TyPYxlxJYRdC7ziAidOtms10",
      "include_colab_link": true
    },
    "kernelspec": {
      "name": "python3",
      "display_name": "Python 3"
    },
    "language_info": {
      "name": "python"
    }
  },
  "cells": [
    {
      "cell_type": "markdown",
      "metadata": {
        "id": "view-in-github",
        "colab_type": "text"
      },
      "source": [
        "<a href=\"https://colab.research.google.com/github/MarinaEstefania/take_home_exercise/blob/main/Take_Home_Excercise.ipynb\" target=\"_parent\"><img src=\"https://colab.research.google.com/assets/colab-badge.svg\" alt=\"Open In Colab\"/></a>"
      ]
    },
    {
      "cell_type": "code",
      "execution_count": null,
      "metadata": {
        "id": "7Huznz6EOpft"
      },
      "outputs": [],
      "source": [
        "%%capture\n",
        "!sudo apt update\n",
        "!apt-get install openjdk-8-jdk-headless -qq > /dev/null\n",
        "!wget -q https://dlcdn.apache.org/spark/spark-3.2.2/spark-3.2.2-bin-hadoop3.2.tgz\n",
        "!tar xf spark-3.2.2-bin-hadoop3.2.tgz\n",
        "!pip install -q findspark\n",
        "!pip install pyspark\n",
        "\n",
        "import os\n",
        "os.environ[\"JAVA_HOME\"] = \"/usr/lib/jvm/java-8-openjdk-amd64\"\n",
        "os.environ[\"SPARK_HOME\"] = \"/content/spark-3.2.2-bin-hadoop3.2\"\n",
        "\n",
        "import findspark\n",
        "findspark.init()\n",
        "findspark.find()\n",
        "\n",
        "from pyspark.sql import *\n",
        "from pyspark.sql.types import *\n",
        "from pyspark.sql.functions import *\n",
        "from datetime import datetime\n",
        "\n",
        "spark = SparkSession \\\n",
        "       .builder \\\n",
        "       .appName(\"take_home_excercise\") \\\n",
        "       .getOrCreate()\n",
        "\n",
        "spark"
      ]
    },
    {
      "cell_type": "code",
      "source": [
        "df = spark.read.format('json').load(\"sample_data/ga_sessions_20160801.json\")\n",
        "df.show(10)\n",
        "#.option(\"multiline\", \"true\")"
      ],
      "metadata": {
        "colab": {
          "base_uri": "https://localhost:8080/"
        },
        "id": "fPRwVfF8QWNE",
        "outputId": "9cbddf59-bcef-4f77-aa30-eb3003bb89a3"
      },
      "execution_count": null,
      "outputs": [
        {
          "output_type": "stream",
          "name": "stdout",
          "text": [
            "+---------------+--------------------+--------+--------------------+-------------------+--------------------+--------------------+--------------------+--------------------+--------------------+----------+-----------+--------------+\n",
            "|channelGrouping|    customDimensions|    date|              device|      fullVisitorId|          geoNetwork|                hits|socialEngagementType|              totals|       trafficSource|   visitId|visitNumber|visitStartTime|\n",
            "+---------------+--------------------+--------+--------------------+-------------------+--------------------+--------------------+--------------------+--------------------+--------------------+----------+-----------+--------------+\n",
            "|         Social|[{4, North America}]|20160801|{Chrome, not avai...|8159312408158297118|{San Jose, not av...|[{{shop.googlemer...|Not Socially Engaged|{null, 3, null, 3...|{null, {null, not...|1470083489|        151|    1470083489|\n",
            "|         Social|[{4, North America}]|20160801|{Internet Explore...|7194065619159478122|{not available in...|[{{shop.googlemer...|Not Socially Engaged|{null, 3, 1, 3, 5...|{null, {null, not...|1470117657|          1|    1470117657|\n",
            "|         Social|                  []|20160801|{Chrome, not avai...|9236304747882138291|{Quezon City, not...|[{{shop.googlemer...|Not Socially Engaged|{null, 4, 1, 3, 3...|{null, {null, not...|1470052694|          1|    1470052694|\n",
            "|         Social|[{4, North America}]|20160801|{Chrome, not avai...|5270776363703942229|{not available in...|[{{shop.googlemer...|Not Socially Engaged|{null, 4, 1, 4, 7...|{null, {null, not...|1470084135|          1|    1470084135|\n",
            "|         Social|[{4, North America}]|20160801|{Firefox, not ava...|1792676004815023069|{not available in...|[{{shop.googlemer...|Not Socially Engaged|{null, 4, 1, 4, 1...|{null, {null, not...|1470061879|          1|    1470061879|\n",
            "|         Social|[{4, North America}]|20160801|{Internet Explore...|7305625498291809599|{not available in...|[{{shop.googlemer...|Not Socially Engaged|{null, 4, 1, 2, 1...|{null, {null, not...|1470090830|          1|    1470090830|\n",
            "|         Social|[{4, North America}]|20160801|{Chrome, not avai...|5378233269828404918|{New York, not av...|[{{shop.googlemer...|Not Socially Engaged|{null, 4, 1, 3, 2...|{null, {null, not...|1470077855|          1|    1470077855|\n",
            "|         Social|[{4, North America}]|20160801|{Chrome, not avai...|1621472397271519979|{not available in...|[{{shop.googlemer...|Not Socially Engaged|{null, 5, 1, 5, 5...|{null, {null, not...|1470048837|          1|    1470048837|\n",
            "|         Social|                  []|20160801|{Chrome, not avai...| 625481915509878217|{not available in...|[{{shop.googlemer...|Not Socially Engaged|{null, 5, 1, 5, 5...|{null, {null, not...|1470084347|          1|    1470084347|\n",
            "|         Social|[{4, North America}]|20160801|{Edge, not availa...|8861555771453791094|{not available in...|[{{shop.googlemer...|Not Socially Engaged|{null, 5, 1, 5, 8...|{null, {null, not...|1470091947|          1|    1470091947|\n",
            "+---------------+--------------------+--------+--------------------+-------------------+--------------------+--------------------+--------------------+--------------------+--------------------+----------+-----------+--------------+\n",
            "only showing top 10 rows\n",
            "\n"
          ]
        }
      ]
    },
    {
      "cell_type": "code",
      "source": [
        "visitsDf = df.select('fullVisitorId', 'visitID', 'visitNumber', 'visitStartTime','device','geoNetwork' )\\\n",
        "          .withColumn('visit_start_time', from_unixtime(col(\"visitStartTime\"))).drop('visitStartTime')\\\n",
        "          .withColumn('browser', df.device.getItem('browser')).drop('device')\\\n",
        "          .withColumn('country', df.geoNetwork.getItem('country')).drop('geoNetwork')\\\n",
        "          .withColumn('visits_primary_key', concat(df.fullVisitorId, df.visitId))\\\n",
        "          .withColumnRenamed('fullVisitorId', 'full_visitor_id')\\\n",
        "          .withColumnRenamed('visitID', 'visit_id')\\\n",
        "          .withColumnRenamed('visitNumber', 'visit_number')\n",
        "visitsDf.show(40)"
      ],
      "metadata": {
        "colab": {
          "base_uri": "https://localhost:8080/"
        },
        "id": "A6MlmZWwbv1a",
        "outputId": "58f610b5-c7da-4c6d-8ba4-532b2f2f0696"
      },
      "execution_count": 212,
      "outputs": [
        {
          "output_type": "stream",
          "name": "stdout",
          "text": [
            "+-------------------+----------+------------+-------------------+-----------------+--------------+--------------------+\n",
            "|    full_visitor_id|  visit_id|visit_number|   visit_start_time|          browser|       country|  visits_primary_key|\n",
            "+-------------------+----------+------------+-------------------+-----------------+--------------+--------------------+\n",
            "|8159312408158297118|1470083489|         151|2016-08-01 20:31:29|           Chrome| United States|81593124081582971...|\n",
            "|7194065619159478122|1470117657|           1|2016-08-02 06:00:57|Internet Explorer| United States|71940656191594781...|\n",
            "|9236304747882138291|1470052694|           1|2016-08-01 11:58:14|           Chrome|   Philippines|92363047478821382...|\n",
            "|5270776363703942229|1470084135|           1|2016-08-01 20:42:15|           Chrome| United States|52707763637039422...|\n",
            "|1792676004815023069|1470061879|           1|2016-08-01 14:31:19|          Firefox|        Canada|17926760048150230...|\n",
            "|7305625498291809599|1470090830|           1|2016-08-01 22:33:50|Internet Explorer| United States|73056254982918095...|\n",
            "|5378233269828404918|1470077855|           1|2016-08-01 18:57:35|           Chrome| United States|53782332698284049...|\n",
            "|1621472397271519979|1470048837|           1|2016-08-01 10:53:57|           Chrome| United States|16214723972715199...|\n",
            "| 625481915509878217|1470084347|           1|2016-08-01 20:45:47|           Chrome|   Philippines|62548191550987821...|\n",
            "|8861555771453791094|1470091947|           1|2016-08-01 22:52:27|             Edge| United States|88615557714537910...|\n",
            "|9333094893297665795|1470119236|           1|2016-08-02 06:27:16|           Chrome|     Australia|93330948932976657...|\n",
            "|8470886127234408497|1470074645|           1|2016-08-01 18:04:05|           Chrome|        Canada|84708861272344084...|\n",
            "|0018526595751613673|1470051070|           1|2016-08-01 11:31:10|           Chrome|         India|00185265957516136...|\n",
            "|0092183247509236158|1470078508|           1|2016-08-01 19:08:28|           Chrome|     Sri Lanka|00921832475092361...|\n",
            "|8295804655007281109|1470077612|           1|2016-08-01 18:53:32|            Opera|    Bangladesh|82958046550072811...|\n",
            "|1374370622285576102|1470043385|           1|2016-08-01 09:23:05|           Chrome|       Armenia|13743706222855761...|\n",
            "|9144533028617712380|1470075806|           1|2016-08-01 18:23:26|           Chrome| United States|91445330286177123...|\n",
            "|0831372147340640012|1470046098|           1|2016-08-01 10:08:18|           Chrome|United Kingdom|08313721473406400...|\n",
            "|5345363805648300707|1470090979|           1|2016-08-01 22:36:19|           Chrome| United States|53453638056483007...|\n",
            "|8602954012826759505|1470079701|           1|2016-08-01 19:28:21|            Opera| United States|86029540128267595...|\n",
            "|2365782199498528299|1470063441|           1|2016-08-01 14:57:21|           Chrome| United States|23657821994985282...|\n",
            "|5636536798768846801|1470118373|           1|2016-08-02 06:12:53|          Firefox| United States|56365367987688468...|\n",
            "|8159312408158297118|1470108789|         152|2016-08-02 03:33:09|           Chrome| United States|81593124081582971...|\n",
            "|4993485206334150199|1470106850|           1|2016-08-02 03:00:50|           Safari| United States|49934852063341501...|\n",
            "|0333020190932309428|1470088506|           1|2016-08-01 21:55:06|           Safari| United States|03330201909323094...|\n",
            "|4853490478802253419|1470109544|           1|2016-08-02 03:45:44|           Chrome| United States|48534904788022534...|\n",
            "|5140493641776291415|1470079602|           1|2016-08-01 19:26:42|           Chrome| United States|51404936417762914...|\n",
            "|1133489829802371861|1470079349|           1|2016-08-01 19:22:29|  Safari (in-app)| United States|11334898298023718...|\n",
            "|1730677701874729626|1470073888|           1|2016-08-01 17:51:28|           Chrome|        Mexico|17306777018747296...|\n",
            "|6870422387229180122|1470082876|           1|2016-08-01 20:21:16|  Safari (in-app)| United States|68704223872291801...|\n",
            "|3662205194729528989|1470065253|           3|2016-08-01 15:27:33|           Chrome| United States|36622051947295289...|\n",
            "|0794931300984810764|1470088659|           5|2016-08-01 21:57:39|           Chrome| United States|07949313009848107...|\n",
            "|5160807529212499245|1470057647|           1|2016-08-01 13:20:47|           Chrome|        Poland|51608075292124992...|\n",
            "|0047614564270023403|1470088400|           1|2016-08-01 21:53:20|          Firefox| United States|00476145642700234...|\n",
            "|6137206948447331806|1470083399|           5|2016-08-01 20:29:59|           Chrome|         India|61372069484473318...|\n",
            "|1343892784443318387|1470114994|           2|2016-08-02 05:16:34|           Safari| United States|13438927844433183...|\n",
            "|8698531054438587635|1470082122|           4|2016-08-01 20:08:42|           Chrome| United States|86985310544385876...|\n",
            "|9035306047185052141|1470060574|          25|2016-08-01 14:09:34|           Chrome| United States|90353060471850521...|\n",
            "|0382398254804709368|1470114938|           3|2016-08-02 05:15:38|           Chrome| United States|03823982548047093...|\n",
            "|4530126874298409636|1470104161|           2|2016-08-02 02:16:01|           Chrome| United States|45301268742984096...|\n",
            "+-------------------+----------+------------+-------------------+-----------------+--------------+--------------------+\n",
            "only showing top 40 rows\n",
            "\n"
          ]
        }
      ]
    },
    {
      "cell_type": "code",
      "source": [
        "hitsHelperDf = df.select('fullVisitorId', 'visitID', 'hits', 'visitStartTime', 'visitNumber' )\\\n",
        "          .withColumn('visits_primary_key', concat(df.fullVisitorId, df.visitId))\\\n",
        "          .withColumn('hit_number', explode(df.hits.getItem('hitNumber')))\\\n",
        "          .withColumn('hit_time_s', df.hits.getItem('time').getItem((col('hit_number').cast('int')-1))*.001)\n",
        "\n",
        "hitsHelperDf = hitsHelperDf.select('*').withColumn('full_time_s', hitsHelperDf.visitStartTime+hitsHelperDf.hit_time_s)\n",
        "hitsHelperDf = hitsHelperDf.select('*').withColumn('visit_start_time', from_unixtime(col(\"full_time_s\")))\n",
        "\n",
        "hitsHelperDf.show()\n"
      ],
      "metadata": {
        "colab": {
          "base_uri": "https://localhost:8080/"
        },
        "id": "JcHnZOYuJXgy",
        "outputId": "278f26e2-908c-4b87-ee94-2bfb64b16455"
      },
      "execution_count": 210,
      "outputs": [
        {
          "output_type": "stream",
          "name": "stdout",
          "text": [
            "+-------------------+----------+--------------------+--------------+-----------+--------------------+----------+----------+----------------+-------------------+\n",
            "|      fullVisitorId|   visitID|                hits|visitStartTime|visitNumber|  visits_primary_key|hit_number|hit_time_s|     full_time_s|   visit_start_time|\n",
            "+-------------------+----------+--------------------+--------------+-----------+--------------------+----------+----------+----------------+-------------------+\n",
            "|8159312408158297118|1470083489|[{{shop.googlemer...|    1470083489|        151|81593124081582971...|         1|       0.0|   1.470083489E9|2016-08-01 20:31:29|\n",
            "|8159312408158297118|1470083489|[{{shop.googlemer...|    1470083489|        151|81593124081582971...|         2|   289.206|1.470083778206E9|2016-08-01 20:36:18|\n",
            "|8159312408158297118|1470083489|[{{shop.googlemer...|    1470083489|        151|81593124081582971...|         3|    528.73| 1.47008401773E9|2016-08-01 20:40:17|\n",
            "|7194065619159478122|1470117657|[{{shop.googlemer...|    1470117657|          1|71940656191594781...|         1|       0.0|   1.470117657E9|2016-08-02 06:00:57|\n",
            "|7194065619159478122|1470117657|[{{shop.googlemer...|    1470117657|          1|71940656191594781...|         2|    30.507|1.470117687507E9|2016-08-02 06:01:27|\n",
            "|7194065619159478122|1470117657|[{{shop.googlemer...|    1470117657|          1|71940656191594781...|         3|     53.67| 1.47011771067E9|2016-08-02 06:01:50|\n",
            "|9236304747882138291|1470052694|[{{shop.googlemer...|    1470052694|          1|92363047478821382...|         1|       0.0|   1.470052694E9|2016-08-01 11:58:14|\n",
            "|9236304747882138291|1470052694|[{{shop.googlemer...|    1470052694|          1|92363047478821382...|         2|   285.338|1.470052979338E9|2016-08-01 12:02:59|\n",
            "|9236304747882138291|1470052694|[{{shop.googlemer...|    1470052694|          1|92363047478821382...|         3|   290.283|1.470052984283E9|2016-08-01 12:03:04|\n",
            "|9236304747882138291|1470052694|[{{shop.googlemer...|    1470052694|          1|92363047478821382...|         4|   322.946|1.470053016946E9|2016-08-01 12:03:36|\n",
            "|5270776363703942229|1470084135|[{{shop.googlemer...|    1470084135|          1|52707763637039422...|         1|       0.0|   1.470084135E9|2016-08-01 20:42:15|\n",
            "|5270776363703942229|1470084135|[{{shop.googlemer...|    1470084135|          1|52707763637039422...|         2|    33.675|1.470084168675E9|2016-08-01 20:42:48|\n",
            "|5270776363703942229|1470084135|[{{shop.googlemer...|    1470084135|          1|52707763637039422...|         3|    48.051|1.470084183051E9|2016-08-01 20:43:03|\n",
            "|5270776363703942229|1470084135|[{{shop.googlemer...|    1470084135|          1|52707763637039422...|         4|    69.819|1.470084204819E9|2016-08-01 20:43:24|\n",
            "|1792676004815023069|1470061879|[{{shop.googlemer...|    1470061879|          1|17926760048150230...|         1|       0.0|   1.470061879E9|2016-08-01 14:31:19|\n",
            "|1792676004815023069|1470061879|[{{shop.googlemer...|    1470061879|          1|17926760048150230...|         2|    74.683|1.470061953683E9|2016-08-01 14:32:33|\n",
            "|1792676004815023069|1470061879|[{{shop.googlemer...|    1470061879|          1|17926760048150230...|         3|    128.22| 1.47006200722E9|2016-08-01 14:33:27|\n",
            "|1792676004815023069|1470061879|[{{shop.googlemer...|    1470061879|          1|17926760048150230...|         4|   134.678|1.470062013678E9|2016-08-01 14:33:33|\n",
            "|7305625498291809599|1470090830|[{{shop.googlemer...|    1470090830|          1|73056254982918095...|         1|       0.0|    1.47009083E9|2016-08-01 22:33:50|\n",
            "|7305625498291809599|1470090830|[{{shop.googlemer...|    1470090830|          1|73056254982918095...|         2|    53.689|1.470090883689E9|2016-08-01 22:34:43|\n",
            "+-------------------+----------+--------------------+--------------+-----------+--------------------+----------+----------+----------------+-------------------+\n",
            "only showing top 20 rows\n",
            "\n"
          ]
        }
      ]
    },
    {
      "cell_type": "code",
      "source": [
        ".write.mode('Overwrite').json(\"/tmp/spark_output/zipcodes.json\")"
      ],
      "metadata": {
        "id": "GOG6tof1Qdm-"
      },
      "execution_count": null,
      "outputs": []
    },
    {
      "cell_type": "code",
      "source": [],
      "metadata": {
        "id": "WZBS2fbFMJOk"
      },
      "execution_count": null,
      "outputs": []
    },
    {
      "cell_type": "code",
      "source": [
        "hitsDf = hitsHelperDf.select('visits_primary_key', 'hits', 'hit_number', 'visit_start_time')\\\n",
        "        .withColumn('hit_type', hitsHelperDf.hits.getItem('type').getItem((col('hit_number').cast('int')-1)))\\\n",
        "        .withColumn('hit_timestamp', hitsHelperDf.visit_start_time).drop('visit_start_time')\\\n",
        "        .withColumn('page_path', hitsHelperDf.hits.getItem('page').getItem('pagePath').getItem((col('hit_number').cast('int')-1)))\\\n",
        "        .withColumn('page_title', hitsHelperDf.hits.getItem('page').getItem('pageTitle').getItem((col('hit_number').cast('int')-1)))\\\n",
        "        .withColumn('hostname', hitsHelperDf.hits.getItem('page').getItem('hostname').getItem((col('hit_number').cast('int')-1)))\\\n",
        "        .drop('hits')\n",
        "\n",
        "hitsDf.show()"
      ],
      "metadata": {
        "colab": {
          "base_uri": "https://localhost:8080/"
        },
        "id": "n1cq7Qs3-FYz",
        "outputId": "cbb2b376-d984-4c30-b893-8fe3b6ac2b0e"
      },
      "execution_count": 217,
      "outputs": [
        {
          "output_type": "stream",
          "name": "stdout",
          "text": [
            "+--------------------+----------+--------+-------------------+--------------------+--------------------+--------------------+\n",
            "|  visits_primary_key|hit_number|hit_type|      hit_timestamp|           page_path|          page_title|            hostname|\n",
            "+--------------------+----------+--------+-------------------+--------------------+--------------------+--------------------+\n",
            "|81593124081582971...|         1|    PAGE|2016-08-01 20:31:29|               /home|                Home|shop.googlemercha...|\n",
            "|81593124081582971...|         2|    PAGE|2016-08-01 20:36:18|/google+redesign/...|      Men's-T-Shirts|shop.googlemercha...|\n",
            "|81593124081582971...|         3|    PAGE|2016-08-01 20:40:17|/google+redesign/...|              Office|shop.googlemercha...|\n",
            "|71940656191594781...|         1|    PAGE|2016-08-02 06:00:57|               /home|                Home|shop.googlemercha...|\n",
            "|71940656191594781...|         2|    PAGE|2016-08-02 06:01:27|/google+redesign/...|          Gift Cards|shop.googlemercha...|\n",
            "|71940656191594781...|         3|    PAGE|2016-08-02 06:01:50|        /signin.html|The Google Mercha...|shop.googlemercha...|\n",
            "|92363047478821382...|         1|    PAGE|2016-08-01 11:58:14|               /home|                Home|shop.googlemercha...|\n",
            "|92363047478821382...|         2|   EVENT|2016-08-01 12:02:59|               /home|                Home|shop.googlemercha...|\n",
            "|92363047478821382...|         3|    PAGE|2016-08-01 12:03:04|/google+redesign/...|             Apparel|shop.googlemercha...|\n",
            "|92363047478821382...|         4|    PAGE|2016-08-01 12:03:36|               /home|                Home|shop.googlemercha...|\n",
            "|52707763637039422...|         1|    PAGE|2016-08-01 20:42:15|               /home|                Home|shop.googlemercha...|\n",
            "|52707763637039422...|         2|    PAGE|2016-08-01 20:42:48|/google+redesign/...|           Drinkware|shop.googlemercha...|\n",
            "|52707763637039422...|         3|    PAGE|2016-08-01 20:43:03|/google+redesign/...|         Electronics|shop.googlemercha...|\n",
            "|52707763637039422...|         4|    PAGE|2016-08-01 20:43:24|/google+redesign/...|      Men's-T-Shirts|shop.googlemercha...|\n",
            "|17926760048150230...|         1|    PAGE|2016-08-01 14:31:19|               /home|                Home|shop.googlemercha...|\n",
            "|17926760048150230...|         2|    PAGE|2016-08-01 14:32:33|/google+redesign/...|             Apparel|shop.googlemercha...|\n",
            "|17926760048150230...|         3|    PAGE|2016-08-01 14:33:27|               /home|                Home|shop.googlemercha...|\n",
            "|17926760048150230...|         4|    PAGE|2016-08-01 14:33:33|               /home|                Home|shop.googlemercha...|\n",
            "|73056254982918095...|         1|    PAGE|2016-08-01 22:33:50|               /home|                Home|shop.googlemercha...|\n",
            "|73056254982918095...|         2|   EVENT|2016-08-01 22:34:43|               /home|                Home|shop.googlemercha...|\n",
            "+--------------------+----------+--------+-------------------+--------------------+--------------------+--------------------+\n",
            "only showing top 20 rows\n",
            "\n"
          ]
        }
      ]
    },
    {
      "cell_type": "code",
      "source": [
        "visitsDf.write.mode('Overwrite').json(\"sample_data/visits.json\")\n",
        "hitsDf.write.mode('Overwrite').json(\"sample_data/hits.json\")"
      ],
      "metadata": {
        "id": "2BcNb5-nQh8U"
      },
      "execution_count": 214,
      "outputs": []
    }
  ]
}